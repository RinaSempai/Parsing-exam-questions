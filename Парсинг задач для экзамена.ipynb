{
 "cells": [
  {
   "cell_type": "code",
   "execution_count": 6,
   "id": "d0745847",
   "metadata": {},
   "outputs": [
    {
     "name": "stderr",
     "output_type": "stream",
     "text": [
      "Обработка страниц: 100%|████████████████████████████████████████████| 1/1 [48:08<00:00, 2888.13s/it]\n"
     ]
    },
    {
     "name": "stdout",
     "output_type": "stream",
     "text": [
      "Все скриншоты сохранены в папку 'геометрия'\n"
     ]
    }
   ],
   "source": [
    "import os\n",
    "from selenium import webdriver\n",
    "from selenium.webdriver.common.by import By\n",
    "from selenium.webdriver.chrome.service import Service\n",
    "from webdriver_manager.chrome import ChromeDriverManager\n",
    "from PIL import Image\n",
    "import time\n",
    "from tqdm import tqdm\n",
    "\n",
    "# Настройка драйвера браузера\n",
    "options = webdriver.ChromeOptions()\n",
    "options.add_argument(\"--headless\")  # Запуск в фоновом режиме (без UI)\n",
    "driver = webdriver.Chrome(service=Service(ChromeDriverManager().install()), options=options)\n",
    "\n",
    "# Создаем папку для сохранения скриншотов, если она не существует\n",
    "output_dir = 'геометрия'\n",
    "if not os.path.exists(output_dir):\n",
    "    os.makedirs(output_dir)\n",
    "\n",
    "# Параметры для страниц\n",
    "pagesize = 10  # Количество вопросов на странице\n",
    "total_pages = 0  # Общее количество страниц\n",
    "\n",
    "# Проходим по всем страницам от 0 до 332\n",
    "for page_number in tqdm(range(total_pages + 1), desc=\"Обработка страниц\", ncols=100):\n",
    "    # Формируем URL для текущей страницы\n",
    "    url = f'https://oge.fipi.ru/bank/questions.php?search=1&pagesize=1330&proj=DE0E276E497AB3784C3FC4CC20248DC0&theme=7%2C7.1%2C7.2%2C7.3%2C7.4%2C7.5&qlevel=&qkind=&qsstruct=&qpos=&qid=&zid=&solved=&favorite=&blind='\n",
    "    \n",
    "    # Открываем нужный URL\n",
    "    driver.get(url)\n",
    "    \n",
    "    # Ждем загрузки страницы\n",
    "    time.sleep(3)\n",
    "    \n",
    "    # Находим все элементы с классом 'qblock'\n",
    "    qblocks = driver.find_elements(By.CLASS_NAME, 'qblock')\n",
    "    \n",
    "    # Используем tqdm для отображения прогресса по элементам на текущей странице\n",
    "    for i, qblock in enumerate(qblocks):\n",
    "        # Сохраняем скриншот каждого qblock элемента\n",
    "        qblock_screenshot_path = os.path.join(output_dir, f'qblock_screenshot_{page_number}_{i + 1}_qblock.png')\n",
    "        qblock.screenshot(qblock_screenshot_path)\n",
    "\n",
    "        # Находим соответствующий элемент с id, который начинается с 'i' и имеет такой же код, как у qblock\n",
    "        qblock_id = qblock.get_attribute('id')[1:]  # Убираем 'q' с начала\n",
    "        \n",
    "        try:\n",
    "            # Пытаемся найти элемент с id, начинающимся с 'i'\n",
    "            related_element = driver.find_element(By.ID, f'i{qblock_id}')\n",
    "            \n",
    "            # Сохраняем скриншот этого элемента\n",
    "            related_screenshot_path = os.path.join(output_dir, f'qblock_screenshot_{page_number}_{i + 1}_related.png')\n",
    "            related_element.screenshot(related_screenshot_path)\n",
    "\n",
    "            # Открываем оба изображения с помощью Pillow\n",
    "            qblock_img = Image.open(qblock_screenshot_path)\n",
    "            related_img = Image.open(related_screenshot_path)\n",
    "\n",
    "            # Объединяем два изображения по вертикали\n",
    "            total_height = qblock_img.height + related_img.height\n",
    "            combined_img = Image.new('RGB', (max(qblock_img.width, related_img.width), total_height))\n",
    "\n",
    "            # Вставляем оба изображения\n",
    "            combined_img.paste(qblock_img, (0, 0))\n",
    "            combined_img.paste(related_img, (0, qblock_img.height))\n",
    "\n",
    "            # Сохраняем объединенный скриншот\n",
    "            combined_screenshot_path = os.path.join(output_dir, f'qblock_combined_screenshot_{page_number}_{i + 1}.png')\n",
    "            combined_img.save(combined_screenshot_path)\n",
    "\n",
    "            # Удаляем промежуточные скриншоты\n",
    "            os.remove(qblock_screenshot_path)\n",
    "            os.remove(related_screenshot_path)\n",
    "        \n",
    "        except Exception as e:\n",
    "            print(f\"Элемент с id 'i{qblock_id}' не найден или ошибка: {e}\")\n",
    "            # Просто продолжаем выполнение без сохранения второго скриншота\n",
    "\n",
    "# Закрываем браузер\n",
    "driver.quit()\n",
    "\n",
    "print(f\"Все скриншоты сохранены в папку '{output_dir}'\")\n"
   ]
  },
  {
   "cell_type": "code",
   "execution_count": null,
   "id": "de5d1c6a",
   "metadata": {},
   "outputs": [],
   "source": []
  }
 ],
 "metadata": {
  "kernelspec": {
   "display_name": "Python 3 (ipykernel)",
   "language": "python",
   "name": "python3"
  },
  "language_info": {
   "codemirror_mode": {
    "name": "ipython",
    "version": 3
   },
   "file_extension": ".py",
   "mimetype": "text/x-python",
   "name": "python",
   "nbconvert_exporter": "python",
   "pygments_lexer": "ipython3",
   "version": "3.11.4"
  }
 },
 "nbformat": 4,
 "nbformat_minor": 5
}
